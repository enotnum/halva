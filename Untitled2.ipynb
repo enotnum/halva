{
  "nbformat": 4,
  "nbformat_minor": 0,
  "metadata": {
    "colab": {
      "provenance": [],
      "authorship_tag": "ABX9TyMyzDBlVQi0ha/GkM6kIFCK",
      "include_colab_link": true
    },
    "kernelspec": {
      "name": "python3",
      "display_name": "Python 3"
    },
    "language_info": {
      "name": "python"
    }
  },
  "cells": [
    {
      "cell_type": "markdown",
      "metadata": {
        "id": "view-in-github",
        "colab_type": "text"
      },
      "source": [
        "<a href=\"https://colab.research.google.com/github/enotnum/halva/blob/main/Untitled2.ipynb\" target=\"_parent\"><img src=\"https://colab.research.google.com/assets/colab-badge.svg\" alt=\"Open In Colab\"/></a>"
      ]
    },
    {
      "cell_type": "code",
      "execution_count": 2,
      "metadata": {
        "colab": {
          "base_uri": "https://localhost:8080/",
          "height": 36
        },
        "id": "xVOcqEo5547r",
        "outputId": "7ec3d1ff-a34f-492f-ca60-a7fe1803f193"
      },
      "outputs": [
        {
          "output_type": "execute_result",
          "data": {
            "text/plain": [
              "''"
            ],
            "application/vnd.google.colaboratory.intrinsic+json": {
              "type": "string"
            }
          },
          "metadata": {},
          "execution_count": 2
        }
      ],
      "source": [
        "import tensorflow as tf \n",
        "tf.test.gpu_device_name() \n"
      ]
    },
    {
      "cell_type": "code",
      "source": [
        "import pandas as pd \n",
        "import keras as ks \n",
        "!pip install -q seaborn \n",
        "# при необходимости \n",
        "import matplotlib.pyplot as plt \n",
        "import seaborn as sns "
      ],
      "metadata": {
        "id": "OM1PnngZ6Vzt"
      },
      "execution_count": 1,
      "outputs": []
    },
    {
      "cell_type": "code",
      "source": [
        "from sklearn.datasets import load_breast_cancer \n",
        "data = load_breast_cancer()\n",
        "\n",
        "import numpy as np\n",
        "from sklearn.model_selection import train_test_split \n",
        "x,y = load_breast_cancer(return_X_y=True) \n",
        "X_train, X_test, y_train, y_test = train_test_split(x, y, test_size=0.4, random_state=True) \n"
      ],
      "metadata": {
        "id": "SwwkZGZ_6V46"
      },
      "execution_count": 4,
      "outputs": []
    },
    {
      "cell_type": "code",
      "source": [
        "from keras.models import Sequential \n",
        "from keras.layers import Dense \n",
        "classifier = Sequential() # Инициализация НС\n",
        "classifier.add(Dense(units = 16, activation = 'relu', input_dim = 30)) \n",
        "classifier.add(Dense(units = 8, activation = 'relu')) \n",
        "classifier.add(Dense(units = 6, activation = 'relu')) \n",
        "classifier.add(Dense(units = 1, activation = 'sigmoid'))  \n",
        "classifier.compile(optimizer = 'rmsprop', loss = 'binary_crossentropy')\n",
        "classifier.fit(X_train, y_train, batch_size = 1, epochs = 30) \n",
        "#24.84 секунды\n",
        "#1s 3ms/step - loss: 0.5228\n",
        "#30 эпох"
      ],
      "metadata": {
        "colab": {
          "base_uri": "https://localhost:8080/"
        },
        "id": "UvBEi2G_6V7a",
        "outputId": "5103c56d-8a08-46ff-c384-88ad4cad1ee6"
      },
      "execution_count": 18,
      "outputs": [
        {
          "output_type": "stream",
          "name": "stdout",
          "text": [
            "Epoch 1/30\n",
            "341/341 [==============================] - 1s 2ms/step - loss: 0.9712\n",
            "Epoch 2/30\n",
            "341/341 [==============================] - 1s 2ms/step - loss: 0.6843\n",
            "Epoch 3/30\n",
            "341/341 [==============================] - 1s 2ms/step - loss: 0.6794\n",
            "Epoch 4/30\n",
            "341/341 [==============================] - 1s 2ms/step - loss: 0.6758\n",
            "Epoch 5/30\n",
            "341/341 [==============================] - 1s 2ms/step - loss: 0.6732\n",
            "Epoch 6/30\n",
            "341/341 [==============================] - 1s 2ms/step - loss: 0.6714\n",
            "Epoch 7/30\n",
            "341/341 [==============================] - 1s 2ms/step - loss: 0.6701\n",
            "Epoch 8/30\n",
            "341/341 [==============================] - 1s 3ms/step - loss: 0.6692\n",
            "Epoch 9/30\n",
            "341/341 [==============================] - 1s 3ms/step - loss: 0.6687\n",
            "Epoch 10/30\n",
            "341/341 [==============================] - 1s 3ms/step - loss: 0.6683\n",
            "Epoch 11/30\n",
            "341/341 [==============================] - 1s 2ms/step - loss: 0.6680\n",
            "Epoch 12/30\n",
            "341/341 [==============================] - 1s 3ms/step - loss: 0.6678\n",
            "Epoch 13/30\n",
            "341/341 [==============================] - 1s 2ms/step - loss: 0.6678\n",
            "Epoch 14/30\n",
            "341/341 [==============================] - 1s 3ms/step - loss: 0.6677\n",
            "Epoch 15/30\n",
            "341/341 [==============================] - 1s 2ms/step - loss: 0.6676\n",
            "Epoch 16/30\n",
            "341/341 [==============================] - 1s 2ms/step - loss: 0.6676\n",
            "Epoch 17/30\n",
            "341/341 [==============================] - 1s 2ms/step - loss: 0.6678\n",
            "Epoch 18/30\n",
            "341/341 [==============================] - 1s 2ms/step - loss: 0.6678\n",
            "Epoch 19/30\n",
            "341/341 [==============================] - 1s 2ms/step - loss: 0.6677\n",
            "Epoch 20/30\n",
            "341/341 [==============================] - 1s 2ms/step - loss: 0.6678\n",
            "Epoch 21/30\n",
            "341/341 [==============================] - 1s 2ms/step - loss: 0.6677\n",
            "Epoch 22/30\n",
            "341/341 [==============================] - 1s 2ms/step - loss: 0.6678\n",
            "Epoch 23/30\n",
            "341/341 [==============================] - 1s 2ms/step - loss: 0.6678\n",
            "Epoch 24/30\n",
            "341/341 [==============================] - 1s 2ms/step - loss: 0.6677\n",
            "Epoch 25/30\n",
            "341/341 [==============================] - 1s 2ms/step - loss: 0.6679\n",
            "Epoch 26/30\n",
            "341/341 [==============================] - 1s 2ms/step - loss: 0.6678\n",
            "Epoch 27/30\n",
            "341/341 [==============================] - 1s 2ms/step - loss: 0.6680\n",
            "Epoch 28/30\n",
            "341/341 [==============================] - 1s 2ms/step - loss: 0.6680\n",
            "Epoch 29/30\n",
            "341/341 [==============================] - 1s 2ms/step - loss: 0.6680\n",
            "Epoch 30/30\n",
            "341/341 [==============================] - 1s 3ms/step - loss: 0.6679\n"
          ]
        },
        {
          "output_type": "execute_result",
          "data": {
            "text/plain": [
              "<keras.callbacks.History at 0x7f0f2205b280>"
            ]
          },
          "metadata": {},
          "execution_count": 18
        }
      ]
    },
    {
      "cell_type": "code",
      "source": [
        "Y_pred = classifier.predict(X_test) # подаём на вход обученной НС тестовый набор данных \n",
        "Y_pred = [ 1 if y>=0.5 else 0 for y in Y_pred ] \n",
        "\n"
      ],
      "metadata": {
        "colab": {
          "base_uri": "https://localhost:8080/"
        },
        "id": "9I5P3aiJ6V97",
        "outputId": "1cca6e18-e145-4f42-840a-24eb51e5edb2"
      },
      "execution_count": 19,
      "outputs": [
        {
          "output_type": "stream",
          "name": "stdout",
          "text": [
            "8/8 [==============================] - 0s 2ms/step\n"
          ]
        }
      ]
    },
    {
      "cell_type": "code",
      "source": [
        "total = 0\n",
        "correct = 0\n",
        "wrong = 0\n",
        "for i in range(len(Y_pred)):\n",
        " total=total+1\n",
        " if(str(y_test[i]) == str(Y_pred[i])):\n",
        "  correct=correct+1\n",
        " else:\n",
        "  wrong=wrong+1\n",
        "\n",
        "print(\"Total \" + str(total))\n",
        "print(\"Correct \" + str(correct))\n",
        "print(\"Wrong \" + str(wrong))"
      ],
      "metadata": {
        "colab": {
          "base_uri": "https://localhost:8080/"
        },
        "id": "RGQMelJ78dpc",
        "outputId": "18482403-2e1e-48d4-b097-1249f3f14d61"
      },
      "execution_count": 20,
      "outputs": [
        {
          "output_type": "stream",
          "name": "stdout",
          "text": [
            "Total 228\n",
            "Correct 148\n",
            "Wrong 80\n"
          ]
        }
      ]
    },
    {
      "cell_type": "code",
      "source": [
        "from keras.models import Sequential \n",
        "from keras.layers import Dense \n",
        "classifier = Sequential() # Инициализация НС\n",
        "classifier.add(Dense(units = 32, activation = 'relu', input_dim = 30)) \n",
        "classifier.add(Dense(units = 16, activation = 'relu')) \n",
        "classifier.add(Dense(units = 12, activation = 'relu')) \n",
        "classifier.add(Dense(units = 1, activation = 'sigmoid'))  \n",
        "classifier.compile(optimizer = 'rmsprop', loss = 'binary_crossentropy')\n",
        "classifier.fit(X_train, y_train, batch_size = 1, epochs = 30) \n",
        "#24.84 секунды\n",
        "#иное количество нейронов\n",
        "#1s 3ms/step - loss: 0.3382\n",
        "#30 эпох"
      ],
      "metadata": {
        "colab": {
          "base_uri": "https://localhost:8080/"
        },
        "id": "ygR7F_1393zs",
        "outputId": "dcf14cb6-fe37-4b0c-9304-5bd3b8dbd606"
      },
      "execution_count": 28,
      "outputs": [
        {
          "output_type": "stream",
          "name": "stdout",
          "text": [
            "Epoch 1/30\n",
            "341/341 [==============================] - 1s 2ms/step - loss: 1.3419\n",
            "Epoch 2/30\n",
            "341/341 [==============================] - 1s 2ms/step - loss: 0.5094\n",
            "Epoch 3/30\n",
            "341/341 [==============================] - 1s 2ms/step - loss: 0.4527\n",
            "Epoch 4/30\n",
            "341/341 [==============================] - 1s 2ms/step - loss: 0.5273\n",
            "Epoch 5/30\n",
            "341/341 [==============================] - 1s 2ms/step - loss: 0.4046\n",
            "Epoch 6/30\n",
            "341/341 [==============================] - 1s 3ms/step - loss: 0.3807\n",
            "Epoch 7/30\n",
            "341/341 [==============================] - 1s 2ms/step - loss: 0.3165\n",
            "Epoch 8/30\n",
            "341/341 [==============================] - 1s 2ms/step - loss: 0.3344\n",
            "Epoch 9/30\n",
            "341/341 [==============================] - 1s 2ms/step - loss: 0.3147\n",
            "Epoch 10/30\n",
            "341/341 [==============================] - 1s 2ms/step - loss: 0.3992\n",
            "Epoch 11/30\n",
            "341/341 [==============================] - 1s 2ms/step - loss: 0.3911\n",
            "Epoch 12/30\n",
            "341/341 [==============================] - 1s 2ms/step - loss: 0.4084\n",
            "Epoch 13/30\n",
            "341/341 [==============================] - 1s 2ms/step - loss: 0.4641\n",
            "Epoch 14/30\n",
            "341/341 [==============================] - 1s 3ms/step - loss: 0.3790\n",
            "Epoch 15/30\n",
            "341/341 [==============================] - 1s 3ms/step - loss: 0.4420\n",
            "Epoch 16/30\n",
            "341/341 [==============================] - 1s 2ms/step - loss: 0.3982\n",
            "Epoch 17/30\n",
            "341/341 [==============================] - 1s 2ms/step - loss: 0.3177\n",
            "Epoch 18/30\n",
            "341/341 [==============================] - 1s 2ms/step - loss: 0.2820\n",
            "Epoch 19/30\n",
            "341/341 [==============================] - 1s 2ms/step - loss: 0.5093\n",
            "Epoch 20/30\n",
            "341/341 [==============================] - 1s 2ms/step - loss: 0.3908\n",
            "Epoch 21/30\n",
            "341/341 [==============================] - 1s 2ms/step - loss: 0.3691\n",
            "Epoch 22/30\n",
            "341/341 [==============================] - 1s 2ms/step - loss: 0.3039\n",
            "Epoch 23/30\n",
            "341/341 [==============================] - 1s 4ms/step - loss: 0.5150\n",
            "Epoch 24/30\n",
            "341/341 [==============================] - 1s 4ms/step - loss: 0.3916\n",
            "Epoch 25/30\n",
            "341/341 [==============================] - 1s 2ms/step - loss: 0.3486\n",
            "Epoch 26/30\n",
            "341/341 [==============================] - 1s 2ms/step - loss: 0.3772\n",
            "Epoch 27/30\n",
            "341/341 [==============================] - 1s 2ms/step - loss: 0.3725\n",
            "Epoch 28/30\n",
            "341/341 [==============================] - 1s 2ms/step - loss: 0.3684\n",
            "Epoch 29/30\n",
            "341/341 [==============================] - 1s 2ms/step - loss: 0.3601\n",
            "Epoch 30/30\n",
            "341/341 [==============================] - 1s 2ms/step - loss: 0.4300\n"
          ]
        },
        {
          "output_type": "execute_result",
          "data": {
            "text/plain": [
              "<keras.callbacks.History at 0x7f0f34184e20>"
            ]
          },
          "metadata": {},
          "execution_count": 28
        }
      ]
    },
    {
      "cell_type": "code",
      "source": [
        "from keras.models import Sequential \n",
        "from keras.layers import Dense \n",
        "classifier = Sequential() # Инициализация НС\n",
        "classifier.add(Dense(units = 32, activation = 'relu', input_dim = 30)) \n",
        "classifier.add(Dense(units = 16, activation = 'relu')) \n",
        "classifier.add(Dense(units = 12, activation = 'relu')) \n",
        "classifier.add(Dense(units = 8, activation = 'relu')) \n",
        "classifier.add(Dense(units = 1, activation = 'sigmoid'))  \n",
        "classifier.compile(optimizer = 'rmsprop', loss = 'binary_crossentropy')\n",
        "classifier.fit(X_train, y_train, batch_size = 1, epochs = 30) \n",
        "#24.84 секунды\n",
        "#иное количество слоев\n",
        "#1s 3ms/step - loss: 0.3382\n",
        "#30 эпох"
      ],
      "metadata": {
        "colab": {
          "base_uri": "https://localhost:8080/"
        },
        "id": "nqM2ZNkN94Bm",
        "outputId": "c318261a-00a2-408d-d9cf-c7e206425944"
      },
      "execution_count": 27,
      "outputs": [
        {
          "output_type": "stream",
          "name": "stdout",
          "text": [
            "Epoch 1/30\n",
            "341/341 [==============================] - 1s 2ms/step - loss: 2.3928\n",
            "Epoch 2/30\n",
            "341/341 [==============================] - 1s 2ms/step - loss: 0.3997\n",
            "Epoch 3/30\n",
            "341/341 [==============================] - 1s 2ms/step - loss: 0.3759\n",
            "Epoch 4/30\n",
            "341/341 [==============================] - 1s 2ms/step - loss: 0.3526\n",
            "Epoch 5/30\n",
            "341/341 [==============================] - 1s 2ms/step - loss: 0.3810\n",
            "Epoch 6/30\n",
            "341/341 [==============================] - 1s 2ms/step - loss: 0.3077\n",
            "Epoch 7/30\n",
            "341/341 [==============================] - 1s 2ms/step - loss: 0.4306\n",
            "Epoch 8/30\n",
            "341/341 [==============================] - 1s 2ms/step - loss: 0.3488\n",
            "Epoch 9/30\n",
            "341/341 [==============================] - 1s 4ms/step - loss: 0.3684\n",
            "Epoch 10/30\n",
            "341/341 [==============================] - 1s 2ms/step - loss: 0.3755\n",
            "Epoch 11/30\n",
            "341/341 [==============================] - 1s 2ms/step - loss: 0.3830\n",
            "Epoch 12/30\n",
            "341/341 [==============================] - 1s 2ms/step - loss: 0.3063\n",
            "Epoch 13/30\n",
            "341/341 [==============================] - 1s 2ms/step - loss: 0.3511\n",
            "Epoch 14/30\n",
            "341/341 [==============================] - 1s 2ms/step - loss: 0.3048\n",
            "Epoch 15/30\n",
            "341/341 [==============================] - 1s 2ms/step - loss: 0.4314\n",
            "Epoch 16/30\n",
            "341/341 [==============================] - 1s 2ms/step - loss: 0.2892\n",
            "Epoch 17/30\n",
            "341/341 [==============================] - 1s 2ms/step - loss: 0.3163\n",
            "Epoch 18/30\n",
            "341/341 [==============================] - 1s 2ms/step - loss: 0.3868\n",
            "Epoch 19/30\n",
            "341/341 [==============================] - 1s 2ms/step - loss: 0.3063\n",
            "Epoch 20/30\n",
            "341/341 [==============================] - 1s 2ms/step - loss: 0.3398\n",
            "Epoch 21/30\n",
            "341/341 [==============================] - 1s 2ms/step - loss: 0.3560\n",
            "Epoch 22/30\n",
            "341/341 [==============================] - 1s 2ms/step - loss: 0.4864\n",
            "Epoch 23/30\n",
            "341/341 [==============================] - 1s 2ms/step - loss: 0.4518\n",
            "Epoch 24/30\n",
            "341/341 [==============================] - 1s 2ms/step - loss: 0.3118\n",
            "Epoch 25/30\n",
            "341/341 [==============================] - 1s 2ms/step - loss: 0.3537\n",
            "Epoch 26/30\n",
            "341/341 [==============================] - 1s 2ms/step - loss: 0.3425\n",
            "Epoch 27/30\n",
            "341/341 [==============================] - 1s 2ms/step - loss: 0.3324\n",
            "Epoch 28/30\n",
            "341/341 [==============================] - 1s 2ms/step - loss: 0.3540\n",
            "Epoch 29/30\n",
            "341/341 [==============================] - 1s 2ms/step - loss: 0.3517\n",
            "Epoch 30/30\n",
            "341/341 [==============================] - 1s 2ms/step - loss: 0.2392\n"
          ]
        },
        {
          "output_type": "execute_result",
          "data": {
            "text/plain": [
              "<keras.callbacks.History at 0x7f0f3497ba90>"
            ]
          },
          "metadata": {},
          "execution_count": 27
        }
      ]
    },
    {
      "cell_type": "code",
      "source": [
        "from keras.models import Sequential \n",
        "from keras.layers import Dense \n",
        "classifier = Sequential() # Инициализация НС\n",
        "classifier.add(Dense(units = 16, activation = 'tanh', input_dim = 30)) \n",
        "classifier.add(Dense(units = 8, activation = 'tanh')) \n",
        "classifier.add(Dense(units = 6, activation = 'tanh')) \n",
        "classifier.add(Dense(units = 1, activation = 'sigmoid'))  \n",
        "classifier.compile(optimizer = 'rmsprop', loss = 'binary_crossentropy')\n",
        "classifier.fit(X_train, y_train, batch_size = 1, epochs = 30) \n",
        "#21 секунда\n",
        "#иные функции\n",
        "#1s 3ms/step - loss: 0.5228\n",
        "#30 эпох"
      ],
      "metadata": {
        "colab": {
          "base_uri": "https://localhost:8080/"
        },
        "id": "qseTPen5EKh8",
        "outputId": "4109f49f-2fe7-48a4-ba15-8f74d3632f51"
      },
      "execution_count": 30,
      "outputs": [
        {
          "output_type": "stream",
          "name": "stdout",
          "text": [
            "Epoch 1/30\n",
            "341/341 [==============================] - 2s 2ms/step - loss: 0.7340\n",
            "Epoch 2/30\n",
            "341/341 [==============================] - 1s 2ms/step - loss: 0.6738\n",
            "Epoch 3/30\n",
            "341/341 [==============================] - 1s 2ms/step - loss: 0.6718\n",
            "Epoch 4/30\n",
            "341/341 [==============================] - 1s 2ms/step - loss: 0.6718\n",
            "Epoch 5/30\n",
            "341/341 [==============================] - 1s 2ms/step - loss: 0.6775\n",
            "Epoch 6/30\n",
            "341/341 [==============================] - 1s 2ms/step - loss: 0.6746\n",
            "Epoch 7/30\n",
            "341/341 [==============================] - 1s 2ms/step - loss: 0.6744\n",
            "Epoch 8/30\n",
            "341/341 [==============================] - 1s 2ms/step - loss: 0.6732\n",
            "Epoch 9/30\n",
            "341/341 [==============================] - 1s 2ms/step - loss: 0.6742\n",
            "Epoch 10/30\n",
            "341/341 [==============================] - 1s 2ms/step - loss: 0.6728\n",
            "Epoch 11/30\n",
            "341/341 [==============================] - 1s 2ms/step - loss: 0.6744\n",
            "Epoch 12/30\n",
            "341/341 [==============================] - 1s 2ms/step - loss: 0.6740\n",
            "Epoch 13/30\n",
            "341/341 [==============================] - 1s 2ms/step - loss: 0.6705\n",
            "Epoch 14/30\n",
            "341/341 [==============================] - 1s 2ms/step - loss: 0.6766\n",
            "Epoch 15/30\n",
            "341/341 [==============================] - 1s 2ms/step - loss: 0.6741\n",
            "Epoch 16/30\n",
            "341/341 [==============================] - 1s 2ms/step - loss: 0.6672\n",
            "Epoch 17/30\n",
            "341/341 [==============================] - 1s 2ms/step - loss: 0.6747\n",
            "Epoch 18/30\n",
            "341/341 [==============================] - 1s 2ms/step - loss: 0.6707\n",
            "Epoch 19/30\n",
            "341/341 [==============================] - 1s 2ms/step - loss: 0.6742\n",
            "Epoch 20/30\n",
            "341/341 [==============================] - 1s 2ms/step - loss: 0.6731\n",
            "Epoch 21/30\n",
            "341/341 [==============================] - 1s 2ms/step - loss: 0.6722\n",
            "Epoch 22/30\n",
            "341/341 [==============================] - 1s 2ms/step - loss: 0.6723\n",
            "Epoch 23/30\n",
            "341/341 [==============================] - 1s 2ms/step - loss: 0.6695\n",
            "Epoch 24/30\n",
            "341/341 [==============================] - 1s 2ms/step - loss: 0.6728\n",
            "Epoch 25/30\n",
            "341/341 [==============================] - 1s 2ms/step - loss: 0.6727\n",
            "Epoch 26/30\n",
            "341/341 [==============================] - 1s 2ms/step - loss: 0.6712\n",
            "Epoch 27/30\n",
            "341/341 [==============================] - 1s 2ms/step - loss: 0.6717\n",
            "Epoch 28/30\n",
            "341/341 [==============================] - 1s 2ms/step - loss: 0.6723\n",
            "Epoch 29/30\n",
            "341/341 [==============================] - 1s 2ms/step - loss: 0.6726\n",
            "Epoch 30/30\n",
            "341/341 [==============================] - 1s 2ms/step - loss: 0.6720\n"
          ]
        },
        {
          "output_type": "execute_result",
          "data": {
            "text/plain": [
              "<keras.callbacks.History at 0x7f0f346757e0>"
            ]
          },
          "metadata": {},
          "execution_count": 30
        }
      ]
    },
    {
      "cell_type": "code",
      "source": [],
      "metadata": {
        "id": "1urzOJhREKpT"
      },
      "execution_count": null,
      "outputs": []
    },
    {
      "cell_type": "code",
      "source": [],
      "metadata": {
        "id": "t3XiRj0iEKr0"
      },
      "execution_count": null,
      "outputs": []
    }
  ]
}