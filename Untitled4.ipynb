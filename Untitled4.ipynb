{
  "nbformat": 4,
  "nbformat_minor": 0,
  "metadata": {
    "colab": {
      "provenance": [],
      "authorship_tag": "ABX9TyMqY+FFmN01BT85mtohpUA5",
      "include_colab_link": true
    },
    "kernelspec": {
      "name": "python3",
      "display_name": "Python 3"
    },
    "language_info": {
      "name": "python"
    }
  },
  "cells": [
    {
      "cell_type": "markdown",
      "metadata": {
        "id": "view-in-github",
        "colab_type": "text"
      },
      "source": [
        "<a href=\"https://colab.research.google.com/github/enotnum/halva/blob/main/Untitled4.ipynb\" target=\"_parent\"><img src=\"https://colab.research.google.com/assets/colab-badge.svg\" alt=\"Open In Colab\"/></a>"
      ]
    },
    {
      "cell_type": "code",
      "execution_count": 1,
      "metadata": {
        "colab": {
          "base_uri": "https://localhost:8080/",
          "height": 177
        },
        "id": "QrWcZBSO20JW",
        "outputId": "56a26ce8-2736-4374-8bff-6d173be56625"
      },
      "outputs": [
        {
          "output_type": "display_data",
          "data": {
            "text/plain": [
              "<IPython.core.display.HTML object>"
            ],
            "text/html": [
              "\n",
              "     <input type=\"file\" id=\"files-cee6280b-d8c0-4a2d-b052-5adc9df312e5\" name=\"files[]\" multiple disabled\n",
              "        style=\"border:none\" />\n",
              "     <output id=\"result-cee6280b-d8c0-4a2d-b052-5adc9df312e5\">\n",
              "      Upload widget is only available when the cell has been executed in the\n",
              "      current browser session. Please rerun this cell to enable.\n",
              "      </output>\n",
              "      <script>// Copyright 2017 Google LLC\n",
              "//\n",
              "// Licensed under the Apache License, Version 2.0 (the \"License\");\n",
              "// you may not use this file except in compliance with the License.\n",
              "// You may obtain a copy of the License at\n",
              "//\n",
              "//      http://www.apache.org/licenses/LICENSE-2.0\n",
              "//\n",
              "// Unless required by applicable law or agreed to in writing, software\n",
              "// distributed under the License is distributed on an \"AS IS\" BASIS,\n",
              "// WITHOUT WARRANTIES OR CONDITIONS OF ANY KIND, either express or implied.\n",
              "// See the License for the specific language governing permissions and\n",
              "// limitations under the License.\n",
              "\n",
              "/**\n",
              " * @fileoverview Helpers for google.colab Python module.\n",
              " */\n",
              "(function(scope) {\n",
              "function span(text, styleAttributes = {}) {\n",
              "  const element = document.createElement('span');\n",
              "  element.textContent = text;\n",
              "  for (const key of Object.keys(styleAttributes)) {\n",
              "    element.style[key] = styleAttributes[key];\n",
              "  }\n",
              "  return element;\n",
              "}\n",
              "\n",
              "// Max number of bytes which will be uploaded at a time.\n",
              "const MAX_PAYLOAD_SIZE = 100 * 1024;\n",
              "\n",
              "function _uploadFiles(inputId, outputId) {\n",
              "  const steps = uploadFilesStep(inputId, outputId);\n",
              "  const outputElement = document.getElementById(outputId);\n",
              "  // Cache steps on the outputElement to make it available for the next call\n",
              "  // to uploadFilesContinue from Python.\n",
              "  outputElement.steps = steps;\n",
              "\n",
              "  return _uploadFilesContinue(outputId);\n",
              "}\n",
              "\n",
              "// This is roughly an async generator (not supported in the browser yet),\n",
              "// where there are multiple asynchronous steps and the Python side is going\n",
              "// to poll for completion of each step.\n",
              "// This uses a Promise to block the python side on completion of each step,\n",
              "// then passes the result of the previous step as the input to the next step.\n",
              "function _uploadFilesContinue(outputId) {\n",
              "  const outputElement = document.getElementById(outputId);\n",
              "  const steps = outputElement.steps;\n",
              "\n",
              "  const next = steps.next(outputElement.lastPromiseValue);\n",
              "  return Promise.resolve(next.value.promise).then((value) => {\n",
              "    // Cache the last promise value to make it available to the next\n",
              "    // step of the generator.\n",
              "    outputElement.lastPromiseValue = value;\n",
              "    return next.value.response;\n",
              "  });\n",
              "}\n",
              "\n",
              "/**\n",
              " * Generator function which is called between each async step of the upload\n",
              " * process.\n",
              " * @param {string} inputId Element ID of the input file picker element.\n",
              " * @param {string} outputId Element ID of the output display.\n",
              " * @return {!Iterable<!Object>} Iterable of next steps.\n",
              " */\n",
              "function* uploadFilesStep(inputId, outputId) {\n",
              "  const inputElement = document.getElementById(inputId);\n",
              "  inputElement.disabled = false;\n",
              "\n",
              "  const outputElement = document.getElementById(outputId);\n",
              "  outputElement.innerHTML = '';\n",
              "\n",
              "  const pickedPromise = new Promise((resolve) => {\n",
              "    inputElement.addEventListener('change', (e) => {\n",
              "      resolve(e.target.files);\n",
              "    });\n",
              "  });\n",
              "\n",
              "  const cancel = document.createElement('button');\n",
              "  inputElement.parentElement.appendChild(cancel);\n",
              "  cancel.textContent = 'Cancel upload';\n",
              "  const cancelPromise = new Promise((resolve) => {\n",
              "    cancel.onclick = () => {\n",
              "      resolve(null);\n",
              "    };\n",
              "  });\n",
              "\n",
              "  // Wait for the user to pick the files.\n",
              "  const files = yield {\n",
              "    promise: Promise.race([pickedPromise, cancelPromise]),\n",
              "    response: {\n",
              "      action: 'starting',\n",
              "    }\n",
              "  };\n",
              "\n",
              "  cancel.remove();\n",
              "\n",
              "  // Disable the input element since further picks are not allowed.\n",
              "  inputElement.disabled = true;\n",
              "\n",
              "  if (!files) {\n",
              "    return {\n",
              "      response: {\n",
              "        action: 'complete',\n",
              "      }\n",
              "    };\n",
              "  }\n",
              "\n",
              "  for (const file of files) {\n",
              "    const li = document.createElement('li');\n",
              "    li.append(span(file.name, {fontWeight: 'bold'}));\n",
              "    li.append(span(\n",
              "        `(${file.type || 'n/a'}) - ${file.size} bytes, ` +\n",
              "        `last modified: ${\n",
              "            file.lastModifiedDate ? file.lastModifiedDate.toLocaleDateString() :\n",
              "                                    'n/a'} - `));\n",
              "    const percent = span('0% done');\n",
              "    li.appendChild(percent);\n",
              "\n",
              "    outputElement.appendChild(li);\n",
              "\n",
              "    const fileDataPromise = new Promise((resolve) => {\n",
              "      const reader = new FileReader();\n",
              "      reader.onload = (e) => {\n",
              "        resolve(e.target.result);\n",
              "      };\n",
              "      reader.readAsArrayBuffer(file);\n",
              "    });\n",
              "    // Wait for the data to be ready.\n",
              "    let fileData = yield {\n",
              "      promise: fileDataPromise,\n",
              "      response: {\n",
              "        action: 'continue',\n",
              "      }\n",
              "    };\n",
              "\n",
              "    // Use a chunked sending to avoid message size limits. See b/62115660.\n",
              "    let position = 0;\n",
              "    do {\n",
              "      const length = Math.min(fileData.byteLength - position, MAX_PAYLOAD_SIZE);\n",
              "      const chunk = new Uint8Array(fileData, position, length);\n",
              "      position += length;\n",
              "\n",
              "      const base64 = btoa(String.fromCharCode.apply(null, chunk));\n",
              "      yield {\n",
              "        response: {\n",
              "          action: 'append',\n",
              "          file: file.name,\n",
              "          data: base64,\n",
              "        },\n",
              "      };\n",
              "\n",
              "      let percentDone = fileData.byteLength === 0 ?\n",
              "          100 :\n",
              "          Math.round((position / fileData.byteLength) * 100);\n",
              "      percent.textContent = `${percentDone}% done`;\n",
              "\n",
              "    } while (position < fileData.byteLength);\n",
              "  }\n",
              "\n",
              "  // All done.\n",
              "  yield {\n",
              "    response: {\n",
              "      action: 'complete',\n",
              "    }\n",
              "  };\n",
              "}\n",
              "\n",
              "scope.google = scope.google || {};\n",
              "scope.google.colab = scope.google.colab || {};\n",
              "scope.google.colab._files = {\n",
              "  _uploadFiles,\n",
              "  _uploadFilesContinue,\n",
              "};\n",
              "})(self);\n",
              "</script> "
            ]
          },
          "metadata": {}
        },
        {
          "output_type": "stream",
          "name": "stdout",
          "text": [
            "Saving KDDTest+.xlsx to KDDTest+.xlsx\n",
            "Saving KDDTest-21.xlsx to KDDTest-21.xlsx\n",
            "Saving KDDTrain-_20Percent.xlsx to KDDTrain-_20Percent.xlsx\n",
            "Saving KDDTrain+.xlsx to KDDTrain+.xlsx\n"
          ]
        }
      ],
      "source": [
        "from google.colab import files\n",
        "uploaded = files.upload()"
      ]
    },
    {
      "cell_type": "code",
      "source": [
        "for filename in uploaded.keys():\n",
        "    print('Файл \"'+filename+'\" был загружен')\n"
      ],
      "metadata": {
        "colab": {
          "base_uri": "https://localhost:8080/"
        },
        "id": "PLlMHL_T21ut",
        "outputId": "8b362bb0-bbef-4772-d113-d240e3d03e01"
      },
      "execution_count": 28,
      "outputs": [
        {
          "output_type": "stream",
          "name": "stdout",
          "text": [
            "Файл \"KDDTest+.xlsx\" был загружен\n",
            "Файл \"KDDTest-21.xlsx\" был загружен\n",
            "Файл \"KDDTrain-_20Percent.xlsx\" был загружен\n",
            "Файл \"KDDTrain+.xlsx\" был загружен\n"
          ]
        }
      ]
    },
    {
      "cell_type": "code",
      "source": [
        "import glob\n",
        "\n",
        "excel_files = glob.glob('*.xlsx')\n",
        "\n",
        "print(excel_files)\n"
      ],
      "metadata": {
        "colab": {
          "base_uri": "https://localhost:8080/"
        },
        "id": "SpAENPta21xZ",
        "outputId": "198ac0bf-0271-4107-b75b-4def3986be6b"
      },
      "execution_count": 29,
      "outputs": [
        {
          "output_type": "stream",
          "name": "stdout",
          "text": [
            "['KDDTest+.xlsx', 'KDDTest-21.xlsx', 'KDDTrain-_20Percent.xlsx', 'KDDTrain+.xlsx']\n"
          ]
        }
      ]
    },
    {
      "cell_type": "code",
      "source": [
        "import os\n",
        "import pandas as pd\n",
        "\n",
        "# Создаем список файлов\n",
        "# file_list = excel_files\n",
        "file_list = ['KDDTrain+.xlsx']\n",
        "\n",
        "# Создаем пустой DataFrame\n",
        "df = pd.DataFrame()\n",
        "\n",
        "# Загружаем данные из каждого файла и добавляем в DataFrame\n",
        "for file in file_list:\n",
        "    df_temp = pd.read_excel(file, header=None)\n",
        "    print(\"-----df\")\n",
        "    print(df.head())\n",
        "    print(len(df.columns)) \n",
        "    print(\"-----df_temp\")\n",
        "    print(df_temp.head())\n",
        "    print(len(df_temp.columns)) \n",
        "    df = pd.concat([df, df_temp])\n",
        "\n",
        "# Выводим результат\n",
        "print(df.head())\n"
      ],
      "metadata": {
        "id": "y_RFkOJe22OB",
        "colab": {
          "base_uri": "https://localhost:8080/"
        },
        "outputId": "1ed752fe-1516-4433-fafd-2c3bfcdc5a3f"
      },
      "execution_count": 30,
      "outputs": [
        {
          "output_type": "stream",
          "name": "stdout",
          "text": [
            "-----df\n",
            "Empty DataFrame\n",
            "Columns: []\n",
            "Index: []\n",
            "0\n",
            "-----df_temp\n",
            "         0              1         2     3          4          5     6   \\\n",
            "0  duration  protocol_type   service  flag  src_bytes  dst_bytes  land   \n",
            "1         0            tcp  ftp_data    SF        491          0     0   \n",
            "2         0            udp     other    SF        146          0     0   \n",
            "3         0            tcp   private    S0          0          0     0   \n",
            "4         0            tcp      http    SF        232       8153     0   \n",
            "\n",
            "               7       8    9   ...                      33  \\\n",
            "0  wrong_fragment  urgent  hot  ...  dst_host_same_srv_rate   \n",
            "1               0       0    0  ...                    0.17   \n",
            "2               0       0    0  ...                       0   \n",
            "3               0       0    0  ...                     0.1   \n",
            "4               0       0    0  ...                       1   \n",
            "\n",
            "                       34                           35  \\\n",
            "0  dst_host_diff_srv_rate  dst_host_same_src_port_rate   \n",
            "1                    0.03                         0.17   \n",
            "2                     0.6                         0.88   \n",
            "3                    0.05                            0   \n",
            "4                       0                         0.03   \n",
            "\n",
            "                            36                    37  \\\n",
            "0  dst_host_srv_diff_host_rate  dst_host_serror_rate   \n",
            "1                            0                     0   \n",
            "2                            0                     0   \n",
            "3                            0                     1   \n",
            "4                         0.04                  0.03   \n",
            "\n",
            "                         38                    39                        40  \\\n",
            "0  dst_host_srv_serror_rate  dst_host_rerror_rate  dst_host_srv_rerror_rate   \n",
            "1                         0                  0.05                         0   \n",
            "2                         0                     0                         0   \n",
            "3                         1                     0                         0   \n",
            "4                      0.01                     0                      0.01   \n",
            "\n",
            "        41    42  \n",
            "0      NaN   NaN  \n",
            "1   normal  20.0  \n",
            "2   normal  15.0  \n",
            "3  neptune  19.0  \n",
            "4   normal  21.0  \n",
            "\n",
            "[5 rows x 43 columns]\n",
            "43\n",
            "         0              1         2     3          4          5     6   \\\n",
            "0  duration  protocol_type   service  flag  src_bytes  dst_bytes  land   \n",
            "1         0            tcp  ftp_data    SF        491          0     0   \n",
            "2         0            udp     other    SF        146          0     0   \n",
            "3         0            tcp   private    S0          0          0     0   \n",
            "4         0            tcp      http    SF        232       8153     0   \n",
            "\n",
            "               7       8    9   ...                      33  \\\n",
            "0  wrong_fragment  urgent  hot  ...  dst_host_same_srv_rate   \n",
            "1               0       0    0  ...                    0.17   \n",
            "2               0       0    0  ...                       0   \n",
            "3               0       0    0  ...                     0.1   \n",
            "4               0       0    0  ...                       1   \n",
            "\n",
            "                       34                           35  \\\n",
            "0  dst_host_diff_srv_rate  dst_host_same_src_port_rate   \n",
            "1                    0.03                         0.17   \n",
            "2                     0.6                         0.88   \n",
            "3                    0.05                            0   \n",
            "4                       0                         0.03   \n",
            "\n",
            "                            36                    37  \\\n",
            "0  dst_host_srv_diff_host_rate  dst_host_serror_rate   \n",
            "1                            0                     0   \n",
            "2                            0                     0   \n",
            "3                            0                     1   \n",
            "4                         0.04                  0.03   \n",
            "\n",
            "                         38                    39                        40  \\\n",
            "0  dst_host_srv_serror_rate  dst_host_rerror_rate  dst_host_srv_rerror_rate   \n",
            "1                         0                  0.05                         0   \n",
            "2                         0                     0                         0   \n",
            "3                         1                     0                         0   \n",
            "4                      0.01                     0                      0.01   \n",
            "\n",
            "        41    42  \n",
            "0      NaN   NaN  \n",
            "1   normal  20.0  \n",
            "2   normal  15.0  \n",
            "3  neptune  19.0  \n",
            "4   normal  21.0  \n",
            "\n",
            "[5 rows x 43 columns]\n"
          ]
        }
      ]
    },
    {
      "cell_type": "code",
      "source": [
        "import copy\n",
        "df1 = copy.deepcopy(df)\n",
        "df2 = copy.copy(df)\n",
        "print(df1.head())"
      ],
      "metadata": {
        "id": "k8ZuLXmK22Qq",
        "colab": {
          "base_uri": "https://localhost:8080/"
        },
        "outputId": "dee7b5d8-5bc2-474f-f642-055da6c1f9d8"
      },
      "execution_count": 31,
      "outputs": [
        {
          "output_type": "stream",
          "name": "stdout",
          "text": [
            "         0              1         2     3          4          5     6   \\\n",
            "0  duration  protocol_type   service  flag  src_bytes  dst_bytes  land   \n",
            "1         0            tcp  ftp_data    SF        491          0     0   \n",
            "2         0            udp     other    SF        146          0     0   \n",
            "3         0            tcp   private    S0          0          0     0   \n",
            "4         0            tcp      http    SF        232       8153     0   \n",
            "\n",
            "               7       8    9   ...                      33  \\\n",
            "0  wrong_fragment  urgent  hot  ...  dst_host_same_srv_rate   \n",
            "1               0       0    0  ...                    0.17   \n",
            "2               0       0    0  ...                       0   \n",
            "3               0       0    0  ...                     0.1   \n",
            "4               0       0    0  ...                       1   \n",
            "\n",
            "                       34                           35  \\\n",
            "0  dst_host_diff_srv_rate  dst_host_same_src_port_rate   \n",
            "1                    0.03                         0.17   \n",
            "2                     0.6                         0.88   \n",
            "3                    0.05                            0   \n",
            "4                       0                         0.03   \n",
            "\n",
            "                            36                    37  \\\n",
            "0  dst_host_srv_diff_host_rate  dst_host_serror_rate   \n",
            "1                            0                     0   \n",
            "2                            0                     0   \n",
            "3                            0                     1   \n",
            "4                         0.04                  0.03   \n",
            "\n",
            "                         38                    39                        40  \\\n",
            "0  dst_host_srv_serror_rate  dst_host_rerror_rate  dst_host_srv_rerror_rate   \n",
            "1                         0                  0.05                         0   \n",
            "2                         0                     0                         0   \n",
            "3                         1                     0                         0   \n",
            "4                      0.01                     0                      0.01   \n",
            "\n",
            "        41    42  \n",
            "0      NaN   NaN  \n",
            "1   normal  20.0  \n",
            "2   normal  15.0  \n",
            "3  neptune  19.0  \n",
            "4   normal  21.0  \n",
            "\n",
            "[5 rows x 43 columns]\n"
          ]
        }
      ]
    },
    {
      "cell_type": "code",
      "source": [
        "df = pd.DataFrame()#снова. создаем чистый датафрейм\n",
        "df = df1\n",
        "print(len(df))"
      ],
      "metadata": {
        "id": "5SL2DH8g22TU",
        "colab": {
          "base_uri": "https://localhost:8080/"
        },
        "outputId": "7866586b-3716-4aee-d424-1cbce1d0214d"
      },
      "execution_count": 32,
      "outputs": [
        {
          "output_type": "stream",
          "name": "stdout",
          "text": [
            "125974\n"
          ]
        }
      ]
    },
    {
      "cell_type": "code",
      "source": [
        "df.columns=['duration', 'protocol_type', 'service', 'flag', 'src_bytes', 'dst_bytes', 'land', 'wrong_fragment', 'urgent', 'hot', 'num_failed_logins', 'logged_in', 'num_compromised', 'root_shell', 'su_attempted', 'num_root', 'num_file_creations', 'num_shells', 'num_access_files', 'num_outbound_cmds', 'is_host_login', 'is_guest_login', 'count', 'srv_count', 'serror_rate', 'srv_serror_rate', 'rerror_rate', 'srv_rerror_rate', 'same_srv_rate', 'diff_srv_rate', 'srv_diff_host_rate', 'dst_host_count', 'dst_host_srv_count', 'dst_host_same_srv_rate', 'dst_host_diff_srv_rate', 'dst_host_same_src_port_rate', 'dst_host_srv_diff_host_rate', 'dst_host_serror_rate', 'dst_host_srv_serror_rate', 'dst_host_rerror_rate', 'dst_host_srv_rerror_rate', 'nameAttack', 'typeAttack']\n",
        "#задаем имена колонок - взято отсуюда https://github.com/defcom17/NSL_KDD/blob/master/Field%20Names.csv\n",
        "print(df.head())\n"
      ],
      "metadata": {
        "id": "WGrJ6qpo22Vw",
        "colab": {
          "base_uri": "https://localhost:8080/"
        },
        "outputId": "255aa838-5abb-4721-db97-151f4f7934cc"
      },
      "execution_count": 33,
      "outputs": [
        {
          "output_type": "stream",
          "name": "stdout",
          "text": [
            "   duration  protocol_type   service  flag  src_bytes  dst_bytes  land  \\\n",
            "0  duration  protocol_type   service  flag  src_bytes  dst_bytes  land   \n",
            "1         0            tcp  ftp_data    SF        491          0     0   \n",
            "2         0            udp     other    SF        146          0     0   \n",
            "3         0            tcp   private    S0          0          0     0   \n",
            "4         0            tcp      http    SF        232       8153     0   \n",
            "\n",
            "   wrong_fragment  urgent  hot  ...  dst_host_same_srv_rate  \\\n",
            "0  wrong_fragment  urgent  hot  ...  dst_host_same_srv_rate   \n",
            "1               0       0    0  ...                    0.17   \n",
            "2               0       0    0  ...                       0   \n",
            "3               0       0    0  ...                     0.1   \n",
            "4               0       0    0  ...                       1   \n",
            "\n",
            "   dst_host_diff_srv_rate  dst_host_same_src_port_rate  \\\n",
            "0  dst_host_diff_srv_rate  dst_host_same_src_port_rate   \n",
            "1                    0.03                         0.17   \n",
            "2                     0.6                         0.88   \n",
            "3                    0.05                            0   \n",
            "4                       0                         0.03   \n",
            "\n",
            "   dst_host_srv_diff_host_rate  dst_host_serror_rate  \\\n",
            "0  dst_host_srv_diff_host_rate  dst_host_serror_rate   \n",
            "1                            0                     0   \n",
            "2                            0                     0   \n",
            "3                            0                     1   \n",
            "4                         0.04                  0.03   \n",
            "\n",
            "   dst_host_srv_serror_rate  dst_host_rerror_rate  dst_host_srv_rerror_rate  \\\n",
            "0  dst_host_srv_serror_rate  dst_host_rerror_rate  dst_host_srv_rerror_rate   \n",
            "1                         0                  0.05                         0   \n",
            "2                         0                     0                         0   \n",
            "3                         1                     0                         0   \n",
            "4                      0.01                     0                      0.01   \n",
            "\n",
            "  nameAttack typeAttack  \n",
            "0        NaN        NaN  \n",
            "1     normal       20.0  \n",
            "2     normal       15.0  \n",
            "3    neptune       19.0  \n",
            "4     normal       21.0  \n",
            "\n",
            "[5 rows x 43 columns]\n"
          ]
        }
      ]
    },
    {
      "cell_type": "code",
      "source": [
        "df.drop_duplicates(inplace=True)#удаляем дублирующиеся строки\n",
        "print(len(df))\n"
      ],
      "metadata": {
        "id": "eFolb7I922YX",
        "colab": {
          "base_uri": "https://localhost:8080/"
        },
        "outputId": "e850b77d-f09e-4c23-f65a-2a3d531e5acd"
      },
      "execution_count": 34,
      "outputs": [
        {
          "output_type": "stream",
          "name": "stdout",
          "text": [
            "125974\n"
          ]
        }
      ]
    },
    {
      "cell_type": "code",
      "source": [
        "(df.dtypes)"
      ],
      "metadata": {
        "id": "vxUbEfdc22ar",
        "colab": {
          "base_uri": "https://localhost:8080/"
        },
        "outputId": "34fdc6d5-0f57-419d-90a7-755c6912451c"
      },
      "execution_count": 35,
      "outputs": [
        {
          "output_type": "execute_result",
          "data": {
            "text/plain": [
              "duration                        object\n",
              "protocol_type                   object\n",
              "service                         object\n",
              "flag                            object\n",
              "src_bytes                       object\n",
              "dst_bytes                       object\n",
              "land                            object\n",
              "wrong_fragment                  object\n",
              "urgent                          object\n",
              "hot                             object\n",
              "num_failed_logins               object\n",
              "logged_in                       object\n",
              "num_compromised                 object\n",
              "root_shell                      object\n",
              "su_attempted                    object\n",
              "num_root                        object\n",
              "num_file_creations              object\n",
              "num_shells                      object\n",
              "num_access_files                object\n",
              "num_outbound_cmds               object\n",
              "is_host_login                   object\n",
              "is_guest_login                  object\n",
              "count                           object\n",
              "srv_count                       object\n",
              "serror_rate                     object\n",
              "srv_serror_rate                 object\n",
              "rerror_rate                     object\n",
              "srv_rerror_rate                 object\n",
              "same_srv_rate                   object\n",
              "diff_srv_rate                   object\n",
              "srv_diff_host_rate              object\n",
              "dst_host_count                  object\n",
              "dst_host_srv_count              object\n",
              "dst_host_same_srv_rate          object\n",
              "dst_host_diff_srv_rate          object\n",
              "dst_host_same_src_port_rate     object\n",
              "dst_host_srv_diff_host_rate     object\n",
              "dst_host_serror_rate            object\n",
              "dst_host_srv_serror_rate        object\n",
              "dst_host_rerror_rate            object\n",
              "dst_host_srv_rerror_rate        object\n",
              "nameAttack                      object\n",
              "typeAttack                     float64\n",
              "dtype: object"
            ]
          },
          "metadata": {},
          "execution_count": 35
        }
      ]
    },
    {
      "cell_type": "code",
      "source": [
        "arr1v = df.protocol_type.unique()\n",
        "print(arr1v)\n",
        "arr2v = df.nameAttack.unique()\n",
        "print(arr2v)\n",
        "arr3v = df.service.unique()\n",
        "print(arr3v)\n",
        "arr4v = df.flag.unique()\n",
        "print(arr4v)"
      ],
      "metadata": {
        "colab": {
          "base_uri": "https://localhost:8080/"
        },
        "id": "2fkXmsfkNGeO",
        "outputId": "13378bf2-d8a2-47d3-debf-178be4410a5b"
      },
      "execution_count": 36,
      "outputs": [
        {
          "output_type": "stream",
          "name": "stdout",
          "text": [
            "['protocol_type' 'tcp' 'udp' 'icmp']\n",
            "[nan 'normal' 'neptune' 'warezclient' 'ipsweep' 'portsweep' 'teardrop'\n",
            " 'nmap' 'satan' 'smurf' 'pod' 'back' 'guess_passwd' 'ftp_write' 'multihop'\n",
            " 'rootkit' 'buffer_overflow' 'imap' 'warezmaster' 'phf' 'land'\n",
            " 'loadmodule' 'spy' 'perl']\n",
            "['service' 'ftp_data' 'other' 'private' 'http' 'remote_job' 'name'\n",
            " 'netbios_ns' 'eco_i' 'mtp' 'telnet' 'finger' 'domain_u' 'supdup'\n",
            " 'uucp_path' 'Z39_50' 'smtp' 'csnet_ns' 'uucp' 'netbios_dgm' 'urp_i'\n",
            " 'auth' 'domain' 'ftp' 'bgp' 'ldap' 'ecr_i' 'gopher' 'vmnet' 'systat'\n",
            " 'http_443' 'efs' 'whois' 'imap4' 'iso_tsap' 'echo' 'klogin' 'link'\n",
            " 'sunrpc' 'login' 'kshell' 'sql_net' 'time' 'hostnames' 'exec' 'ntp_u'\n",
            " 'discard' 'nntp' 'courier' 'ctf' 'ssh' 'daytime' 'shell' 'netstat'\n",
            " 'pop_3' 'nnsp' 'IRC' 'pop_2' 'printer' 'tim_i' 'pm_dump' 'red_i'\n",
            " 'netbios_ssn' 'rje' 'X11' 'urh_i' 'http_8001' 'aol' 'http_2784' 'tftp_u'\n",
            " 'harvest']\n",
            "['flag' 'SF' 'S0' 'REJ' 'RSTR' 'SH' 'RSTO' 'S1' 'RSTOS0' 'S3' 'S2' 'OTH']\n"
          ]
        }
      ]
    },
    {
      "cell_type": "code",
      "source": [
        "def Convert(lst):\n",
        "    res_dct = {lst[i]: i+1  for i in range(0, len(lst), 1)}\n",
        "    return res_dct"
      ],
      "metadata": {
        "id": "g9I5d3rXNGnP"
      },
      "execution_count": 37,
      "outputs": []
    },
    {
      "cell_type": "code",
      "source": [
        "arr1v1 =Convert(arr1v)\n",
        "print(arr1v1)\n",
        "arr2v1 =Convert(arr2v)\n",
        "print(arr2v1)\n",
        "arr3v1 =Convert(arr3v)\n",
        "print(arr3v1)\n",
        "arr4v1 =Convert(arr4v)\n",
        "print(arr4v1)"
      ],
      "metadata": {
        "colab": {
          "base_uri": "https://localhost:8080/"
        },
        "id": "m2zZQr4pNGuS",
        "outputId": "53812703-dbdd-4178-9d09-2a01fd3ac9f3"
      },
      "execution_count": 38,
      "outputs": [
        {
          "output_type": "stream",
          "name": "stdout",
          "text": [
            "{'protocol_type': 1, 'tcp': 2, 'udp': 3, 'icmp': 4}\n",
            "{nan: 1, 'normal': 2, 'neptune': 3, 'warezclient': 4, 'ipsweep': 5, 'portsweep': 6, 'teardrop': 7, 'nmap': 8, 'satan': 9, 'smurf': 10, 'pod': 11, 'back': 12, 'guess_passwd': 13, 'ftp_write': 14, 'multihop': 15, 'rootkit': 16, 'buffer_overflow': 17, 'imap': 18, 'warezmaster': 19, 'phf': 20, 'land': 21, 'loadmodule': 22, 'spy': 23, 'perl': 24}\n",
            "{'service': 1, 'ftp_data': 2, 'other': 3, 'private': 4, 'http': 5, 'remote_job': 6, 'name': 7, 'netbios_ns': 8, 'eco_i': 9, 'mtp': 10, 'telnet': 11, 'finger': 12, 'domain_u': 13, 'supdup': 14, 'uucp_path': 15, 'Z39_50': 16, 'smtp': 17, 'csnet_ns': 18, 'uucp': 19, 'netbios_dgm': 20, 'urp_i': 21, 'auth': 22, 'domain': 23, 'ftp': 24, 'bgp': 25, 'ldap': 26, 'ecr_i': 27, 'gopher': 28, 'vmnet': 29, 'systat': 30, 'http_443': 31, 'efs': 32, 'whois': 33, 'imap4': 34, 'iso_tsap': 35, 'echo': 36, 'klogin': 37, 'link': 38, 'sunrpc': 39, 'login': 40, 'kshell': 41, 'sql_net': 42, 'time': 43, 'hostnames': 44, 'exec': 45, 'ntp_u': 46, 'discard': 47, 'nntp': 48, 'courier': 49, 'ctf': 50, 'ssh': 51, 'daytime': 52, 'shell': 53, 'netstat': 54, 'pop_3': 55, 'nnsp': 56, 'IRC': 57, 'pop_2': 58, 'printer': 59, 'tim_i': 60, 'pm_dump': 61, 'red_i': 62, 'netbios_ssn': 63, 'rje': 64, 'X11': 65, 'urh_i': 66, 'http_8001': 67, 'aol': 68, 'http_2784': 69, 'tftp_u': 70, 'harvest': 71}\n",
            "{'flag': 1, 'SF': 2, 'S0': 3, 'REJ': 4, 'RSTR': 5, 'SH': 6, 'RSTO': 7, 'S1': 8, 'RSTOS0': 9, 'S3': 10, 'S2': 11, 'OTH': 12}\n"
          ]
        }
      ]
    },
    {
      "cell_type": "code",
      "source": [
        "df['protocol_type'] = df['protocol_type'].map(arr1v1)\n",
        "df['nameAttack'] = df['nameAttack'].map(arr2v1)\n",
        "\n",
        "df['service'] = df['service'].map(arr3v1)\n",
        "df['flag'] = df['flag'].map(arr4v1)\n",
        "# df['protocol_type'] = df['protocol_type'].map(arr1v1)\n",
        "# df['nameAttack'] = df['nameAttack'].map(arr2v1)\n",
        "\n",
        "# df['service'] = df['service'].map(arr3v1)\n",
        "# df['flag'] = df['flag'].map(arr4v1)\n",
        "df['protocol_type'] = df['protocol_type'].astype (float)\n",
        "df['nameAttack'] = df['nameAttack'].astype (float)\n",
        "df['service'] = df['service'].astype (float)\n",
        "df['flag'] = df['flag'].astype (float)\n",
        "(df.dtypes)\n"
      ],
      "metadata": {
        "colab": {
          "base_uri": "https://localhost:8080/"
        },
        "id": "YTgFUwVoNTql",
        "outputId": "101a1884-fc00-4da0-dd4d-ce828f4026d3"
      },
      "execution_count": 39,
      "outputs": [
        {
          "output_type": "execute_result",
          "data": {
            "text/plain": [
              "duration                        object\n",
              "protocol_type                  float64\n",
              "service                        float64\n",
              "flag                           float64\n",
              "src_bytes                       object\n",
              "dst_bytes                       object\n",
              "land                            object\n",
              "wrong_fragment                  object\n",
              "urgent                          object\n",
              "hot                             object\n",
              "num_failed_logins               object\n",
              "logged_in                       object\n",
              "num_compromised                 object\n",
              "root_shell                      object\n",
              "su_attempted                    object\n",
              "num_root                        object\n",
              "num_file_creations              object\n",
              "num_shells                      object\n",
              "num_access_files                object\n",
              "num_outbound_cmds               object\n",
              "is_host_login                   object\n",
              "is_guest_login                  object\n",
              "count                           object\n",
              "srv_count                       object\n",
              "serror_rate                     object\n",
              "srv_serror_rate                 object\n",
              "rerror_rate                     object\n",
              "srv_rerror_rate                 object\n",
              "same_srv_rate                   object\n",
              "diff_srv_rate                   object\n",
              "srv_diff_host_rate              object\n",
              "dst_host_count                  object\n",
              "dst_host_srv_count              object\n",
              "dst_host_same_srv_rate          object\n",
              "dst_host_diff_srv_rate          object\n",
              "dst_host_same_src_port_rate     object\n",
              "dst_host_srv_diff_host_rate     object\n",
              "dst_host_serror_rate            object\n",
              "dst_host_srv_serror_rate        object\n",
              "dst_host_rerror_rate            object\n",
              "dst_host_srv_rerror_rate        object\n",
              "nameAttack                     float64\n",
              "typeAttack                     float64\n",
              "dtype: object"
            ]
          },
          "metadata": {},
          "execution_count": 39
        }
      ]
    },
    {
      "cell_type": "code",
      "source": [
        "print(df.head())"
      ],
      "metadata": {
        "colab": {
          "base_uri": "https://localhost:8080/"
        },
        "id": "EiIXPyQdNTxm",
        "outputId": "39db44d8-7960-4445-d60a-6b389f556802"
      },
      "execution_count": 40,
      "outputs": [
        {
          "output_type": "stream",
          "name": "stdout",
          "text": [
            "   duration  protocol_type  service  flag  src_bytes  dst_bytes  land  \\\n",
            "0  duration            1.0      1.0   1.0  src_bytes  dst_bytes  land   \n",
            "1         0            2.0      2.0   2.0        491          0     0   \n",
            "2         0            3.0      3.0   2.0        146          0     0   \n",
            "3         0            2.0      4.0   3.0          0          0     0   \n",
            "4         0            2.0      5.0   2.0        232       8153     0   \n",
            "\n",
            "   wrong_fragment  urgent  hot  ...  dst_host_same_srv_rate  \\\n",
            "0  wrong_fragment  urgent  hot  ...  dst_host_same_srv_rate   \n",
            "1               0       0    0  ...                    0.17   \n",
            "2               0       0    0  ...                       0   \n",
            "3               0       0    0  ...                     0.1   \n",
            "4               0       0    0  ...                       1   \n",
            "\n",
            "   dst_host_diff_srv_rate  dst_host_same_src_port_rate  \\\n",
            "0  dst_host_diff_srv_rate  dst_host_same_src_port_rate   \n",
            "1                    0.03                         0.17   \n",
            "2                     0.6                         0.88   \n",
            "3                    0.05                            0   \n",
            "4                       0                         0.03   \n",
            "\n",
            "   dst_host_srv_diff_host_rate  dst_host_serror_rate  \\\n",
            "0  dst_host_srv_diff_host_rate  dst_host_serror_rate   \n",
            "1                            0                     0   \n",
            "2                            0                     0   \n",
            "3                            0                     1   \n",
            "4                         0.04                  0.03   \n",
            "\n",
            "   dst_host_srv_serror_rate  dst_host_rerror_rate  dst_host_srv_rerror_rate  \\\n",
            "0  dst_host_srv_serror_rate  dst_host_rerror_rate  dst_host_srv_rerror_rate   \n",
            "1                         0                  0.05                         0   \n",
            "2                         0                     0                         0   \n",
            "3                         1                     0                         0   \n",
            "4                      0.01                     0                      0.01   \n",
            "\n",
            "  nameAttack typeAttack  \n",
            "0        1.0        NaN  \n",
            "1        2.0       20.0  \n",
            "2        2.0       15.0  \n",
            "3        3.0       19.0  \n",
            "4        2.0       21.0  \n",
            "\n",
            "[5 rows x 43 columns]\n"
          ]
        }
      ]
    },
    {
      "cell_type": "code",
      "source": [
        "df.isna().sum() "
      ],
      "metadata": {
        "colab": {
          "base_uri": "https://localhost:8080/"
        },
        "id": "p_b98aWMNT0N",
        "outputId": "33dc2988-6e1b-40e1-e949-3220bc66a743"
      },
      "execution_count": 41,
      "outputs": [
        {
          "output_type": "execute_result",
          "data": {
            "text/plain": [
              "duration                       0\n",
              "protocol_type                  0\n",
              "service                        0\n",
              "flag                           0\n",
              "src_bytes                      0\n",
              "dst_bytes                      0\n",
              "land                           0\n",
              "wrong_fragment                 0\n",
              "urgent                         0\n",
              "hot                            0\n",
              "num_failed_logins              0\n",
              "logged_in                      0\n",
              "num_compromised                0\n",
              "root_shell                     0\n",
              "su_attempted                   0\n",
              "num_root                       0\n",
              "num_file_creations             0\n",
              "num_shells                     0\n",
              "num_access_files               0\n",
              "num_outbound_cmds              0\n",
              "is_host_login                  0\n",
              "is_guest_login                 0\n",
              "count                          0\n",
              "srv_count                      0\n",
              "serror_rate                    0\n",
              "srv_serror_rate                0\n",
              "rerror_rate                    0\n",
              "srv_rerror_rate                0\n",
              "same_srv_rate                  0\n",
              "diff_srv_rate                  0\n",
              "srv_diff_host_rate             0\n",
              "dst_host_count                 0\n",
              "dst_host_srv_count             0\n",
              "dst_host_same_srv_rate         0\n",
              "dst_host_diff_srv_rate         0\n",
              "dst_host_same_src_port_rate    0\n",
              "dst_host_srv_diff_host_rate    0\n",
              "dst_host_serror_rate           0\n",
              "dst_host_srv_serror_rate       0\n",
              "dst_host_rerror_rate           0\n",
              "dst_host_srv_rerror_rate       0\n",
              "nameAttack                     0\n",
              "typeAttack                     1\n",
              "dtype: int64"
            ]
          },
          "metadata": {},
          "execution_count": 41
        }
      ]
    },
    {
      "cell_type": "code",
      "source": [
        "df = df.dropna() \n",
        "# Конвертация столбца \"class\" в числовой формат\n",
        "#df[\"class\"] = pd.factorize(df[\"class\"])[0]\n",
        "nameAttack = df.pop('nameAttack')\n",
        "typeAttack = df.pop('typeAttack')\n",
        "# for col1 in df.columns:\n",
        "#   if col1.find('_rate')>-1:\n",
        "#     dropped = df.pop(col1)\n",
        "# for col1 in df.columns:\n",
        "#   if col1.find('_login')>-1:\n",
        "#     dropped = df.pop(col1)\n",
        "# for col1 in df.columns:\n",
        "#   if col1.find('_bytes')>-1:\n",
        "#     dropped = df.pop(col1)\n",
        "from sklearn import preprocessing\n",
        "dfN = preprocessing.normalize(df)\n",
        "from sklearn.model_selection import train_test_split\n",
        "X_train, X_test, y_train, y_test = train_test_split(dfN, nameAttack, test_size=0.2, random_state=1)\n",
        "from keras.models import Sequential\n",
        "from keras.layers import Dense\n",
        "from keras import layers\n",
        "classifier = Sequential() # Инициализация НС\n",
        "classifier.add(Dense(units = 16, activation = 'relu', input_dim = 41))\n",
        "classifier.add(Dense(units = 8, activation = 'relu'))\n",
        "classifier.add(layers.Dropout(0.2))\n",
        "classifier.add(Dense(units = 6, activation = 'relu'))\n",
        "classifier.add(Dense(units = 1, activation = 'sigmoid'))\n",
        "# import tensorflow as tf\n",
        "# classifier = tf.keras.Sequential([\n",
        "#     tf.keras.layers.Dense(64, activation='relu', input_shape=[41]),\n",
        "#     tf.keras.layers.Dense(64, activation='relu'),\n",
        "#     tf.keras.layers.Dense(1, activation='sigmoid')\n",
        "# ])\n",
        "# from keras.models import Sequential\n",
        "# from keras.optimizers import Adam\n",
        "# from keras import layers\n",
        "# classifier = Sequential() # Инициализация НС\n",
        "# classifier.add(layers.Flatten(input_dim = 26))\n",
        "# #classifier.add(Dense(units = 32, activation = 'relu', input_dim = 6))#6 - потому что на входе всего 6 чисел\n",
        "# classifier.add(layers.Dense(units = 512, activation = 'relu'))\n",
        "# classifier.add(layers.Dense(units = 256, activation = 'relu'))\n",
        "# classifier.add(layers.Dense(units = 128, activation = 'relu'))\n",
        "# classifier.add(layers.Dropout(0.3))\n",
        "# #classifier.add(layers.BatchNormalization())\n",
        "# classifier.add(layers.Dense(2, activation='softmax'))\n",
        "# classifier.add(layers.Dense(units = 1, activation = 'sigmoid'))\n",
        "classifier.compile(optimizer = 'adam', loss = 'binary_crossentropy',metrics=['accuracy'])\n",
        "hist1 = classifier.fit(X_train, y_train, batch_size = 32, epochs = 10)\n"
      ],
      "metadata": {
        "colab": {
          "base_uri": "https://localhost:8080/"
        },
        "id": "EAmZKRebNT2o",
        "outputId": "cb73696c-022a-4c7c-8701-d53b25f58194"
      },
      "execution_count": 42,
      "outputs": [
        {
          "output_type": "stream",
          "name": "stdout",
          "text": [
            "Epoch 1/10\n",
            "3150/3150 [==============================] - 7s 2ms/step - loss: -215172.0156 - accuracy: 0.0000e+00\n",
            "Epoch 2/10\n",
            "3150/3150 [==============================] - 7s 2ms/step - loss: -4096201.5000 - accuracy: 0.0000e+00\n",
            "Epoch 3/10\n",
            "3150/3150 [==============================] - 6s 2ms/step - loss: -19080030.0000 - accuracy: 0.0000e+00\n",
            "Epoch 4/10\n",
            "3150/3150 [==============================] - 6s 2ms/step - loss: -54219984.0000 - accuracy: 0.0000e+00\n",
            "Epoch 5/10\n",
            "3150/3150 [==============================] - 6s 2ms/step - loss: -119603248.0000 - accuracy: 0.0000e+00\n",
            "Epoch 6/10\n",
            "3150/3150 [==============================] - 7s 2ms/step - loss: -229004080.0000 - accuracy: 0.0000e+00\n",
            "Epoch 7/10\n",
            "3150/3150 [==============================] - 6s 2ms/step - loss: -396919456.0000 - accuracy: 0.0000e+00\n",
            "Epoch 8/10\n",
            "3150/3150 [==============================] - 6s 2ms/step - loss: -637073536.0000 - accuracy: 0.0000e+00\n",
            "Epoch 9/10\n",
            "3150/3150 [==============================] - 6s 2ms/step - loss: -968026816.0000 - accuracy: 0.0000e+00\n",
            "Epoch 10/10\n",
            "3150/3150 [==============================] - 6s 2ms/step - loss: -1414434048.0000 - accuracy: 0.0000e+00\n"
          ]
        }
      ]
    }
  ]
}